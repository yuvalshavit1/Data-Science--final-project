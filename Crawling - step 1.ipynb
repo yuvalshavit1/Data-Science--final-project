{
 "cells": [
  {
   "cell_type": "markdown",
   "metadata": {},
   "source": [
    "# Will the movie be successful on Netflix? - Web Scarping Part\n",
    "### In this project we will predict whether a new film that will be uploaded to Netflix will be successful movie on Netflix. We will learn about various parameters of successful past films, (such as genre, director, actors, year of publication and our goal column - films with the most liked label indicating the success of the film).\n",
    "\n",
    "### In this section we will deal with Crawling \\ Web Scraping.\n",
    "\n",
    "### The information was extracted by selenium because Netflix is a very dynamic site and we had to extract the relevant information for us for the project so that we could answer a research question for us from the many options that exist within the site.\n",
    "\n",
    "###### Note: Because we have a lot of information we will have to run the code for a specific category each time.\n"
   ]
  },
  {
   "cell_type": "code",
   "execution_count": null,
   "metadata": {},
   "outputs": [],
   "source": [
    "import pandas as pd\n",
    "import numpy as np\n",
    "import time\n",
    "import os\n",
    "import datetime\n",
    "\n",
    "# selenium\n",
    "from selenium import webdriver\n",
    "from selenium.webdriver.common.by import By\n",
    "from selenium.webdriver.chrome.service import Service\n",
    "from selenium.webdriver.support.select import Select\n",
    "from selenium.webdriver.support.ui import WebDriverWait\n",
    "from selenium.webdriver.common.keys import Keys\n",
    "from selenium.webdriver.common.action_chains import ActionChains\n"
   ]
  },
  {
   "cell_type": "markdown",
   "metadata": {},
   "source": [
    "### First, we want to automatically connect to Netflix so we can pump out the data.\n",
    "\n",
    "#### In this section we will automatically connect to the Netflix website, go through movies and select a different category of movie each time."
   ]
  },
  {
   "cell_type": "code",
   "execution_count": null,
   "metadata": {},
   "outputs": [],
   "source": [
    "# Chromedrive location\n",
    "ser = Service(\"C:\\\\chromedriver\\\\chromedriver.exe\")\n",
    "driver = webdriver.Chrome(service = ser)"
   ]
  },
  {
   "cell_type": "code",
   "execution_count": null,
   "metadata": {},
   "outputs": [],
   "source": [
    "# Open page by url link\n",
    "url = \"https://www.netflix.com/browse\"\n",
    "driver.get(url)"
   ]
  },
  {
   "cell_type": "code",
   "execution_count": null,
   "metadata": {},
   "outputs": [],
   "source": [
    "# locating inputs for login \n",
    "email_box = driver.find_element(By.ID, \"id_userLoginId\")\n",
    "password_box = driver.find_element(By.ID,\"id_password\")\n",
    "login_button = driver.find_element(By.CLASS_NAME, \"btn\")"
   ]
  },
  {
   "cell_type": "code",
   "execution_count": null,
   "metadata": {},
   "outputs": [],
   "source": [
    "# login\n",
    "email_box.send_keys(\"USER NAME\")\n",
    "password_box.send_keys(\"PASSWORD\")\n",
    "login_button.click()\n",
    "time.sleep(3)"
   ]
  },
  {
   "cell_type": "code",
   "execution_count": null,
   "metadata": {},
   "outputs": [],
   "source": [
    "# Choose user\n",
    "choose_user = driver.find_element(By.CLASS_NAME, \"choose-profile\").find_elements(By.TAG_NAME,'li')[3]\n",
    "choose_user.click()\n",
    "time.sleep(3)"
   ]
  },
  {
   "cell_type": "code",
   "execution_count": null,
   "metadata": {},
   "outputs": [],
   "source": [
    "#Movies catogery\n",
    "choose_movies = driver.find_element(By.CLASS_NAME,\"tabbed-primary-navigation\").find_elements(By.TAG_NAME,'li')[3]\n",
    "choose_movies.click()\n",
    "time.sleep(5)"
   ]
  },
  {
   "cell_type": "code",
   "execution_count": null,
   "metadata": {},
   "outputs": [],
   "source": [
    "style_menu = driver.find_element(By.CLASS_NAME,\"label\")\n",
    "style_menu.click()\n",
    "time.sleep(4)\n",
    "click_style = driver.find_elements(By.CLASS_NAME,\"sub-menu-item\")\n",
    "click_style[9].click()\n",
    "\n",
    "time.sleep(4)\n",
    "grid_view = driver.find_element(By.CLASS_NAME,\"aro-grid-toggle\")\n",
    "grid_view.click()\n"
   ]
  },
  {
   "cell_type": "code",
   "execution_count": null,
   "metadata": {},
   "outputs": [],
   "source": [
    "#Scrollig down the page\n",
    "check_height = driver.execute_script(\"return document.body.scrollHeight;\") \n",
    "while True:\n",
    "    driver.execute_script(\"window.scrollTo(0, document.body.scrollHeight);\")\n",
    "    time.sleep(5)\n",
    "    height = driver.execute_script(\"return document.body.scrollHeight;\") \n",
    "    if height == check_height: \n",
    "        break \n",
    "    check_height = height\n",
    "\n",
    "driver.find_element(By.TAG_NAME, value ='body').send_keys(Keys.CONTROL + Keys.HOME)\n",
    "time.sleep(4)"
   ]
  },
  {
   "cell_type": "markdown",
   "metadata": {},
   "source": [
    "### Second part - create lists so that we can enter the relevant information in them and then we will create an Data frame that contains all the information."
   ]
  },
  {
   "cell_type": "code",
   "execution_count": null,
   "metadata": {},
   "outputs": [],
   "source": [
    "#basic of topics\n",
    "movie_titles = [] #1\n",
    "movie_release_year = [] #2\n",
    "movie_duration = [] #3\n",
    "movie_most_liked = []#4\n",
    "movie_description=[]#5\n",
    "\n",
    "#dynamic topics\n",
    "movie_cast= []\n",
    "movie_genre = []\n",
    "movie_is = []\n",
    "\n",
    "\n",
    "movie_director = []\n",
    "movie_full_cast = []\n",
    "movie_writer = []\n",
    "movie_genre_full = []\n",
    "movie_is_full = []\n",
    "\n",
    "maturity=[]"
   ]
  },
  {
   "cell_type": "code",
   "execution_count": null,
   "metadata": {},
   "outputs": [],
   "source": [
    "movies = driver.find_elements(By.CLASS_NAME, \"boxart-image-in-padded-container\")\n",
    "i=0\n",
    "for movie in movies:\n",
    "    if (i % 5 == 0 and i != 0):\n",
    "        time.sleep(4)\n",
    "        space_height = 178\n",
    "        driver.execute_script(f\"window.scrollTo(0, {space_height + 97} )\") \n",
    "    time.sleep(4)\n",
    "    movie.click()\n",
    "    time.sleep(5)\n",
    "    try: # First try\n",
    "        time.sleep(6)\n",
    "        try:\n",
    "            movie_title = driver.find_element(By.CLASS_NAME,value=\"previewModal--player-titleTreatment-logo\").get_attribute('title')\n",
    "            movie_titles.append(movie_title)\n",
    "        except:\n",
    "            movie_titles.append(\"Nan\") #1\n",
    "        try:\n",
    "            year = driver.find_element(By.CLASS_NAME,value=\"year\").text \n",
    "            movie_release_year.append(year)\n",
    "        except:\n",
    "            movie_release_year.append(\"Nan\") #2\n",
    "       \n",
    "        try:\n",
    "            duration = driver.find_element(By.CLASS_NAME,value=\"duration\").text\n",
    "            movie_duration.append(duration)\n",
    "        except: \n",
    "            movie_duration.append(\"Nan\") #3\n",
    "        try:\n",
    "            most_liked = driver.find_element(By.CLASS_NAME,value=\"css-7yvnxf\")\n",
    "            movie_most_liked.append(\"1\")\n",
    "              \n",
    "        except: \n",
    "            movie_most_liked.append(\"0\")  #4\n",
    "               \n",
    "        try:\n",
    "            left_con = driver.find_element(By.CLASS_NAME,value=\"previewModal--detailsMetadata-left\")\n",
    "            description = left_con.find_element(By.CLASS_NAME, value=\"ptrack-content\")\n",
    "            movie_description.append(description.text)\n",
    "        except:\n",
    "            movie_description.append(\"Nan\") #5\n",
    "\n",
    "        try: # first try\n",
    "            right_con = driver.find_element(By.CLASS_NAME,value=\"previewModal--detailsMetadata-right\")\n",
    "            info = right_con.find_elements(By.CLASS_NAME,value=\"previewModal--tags\")\n",
    "            sentence = []\n",
    "            for item in info:\n",
    "                sentence.clear() #clearing to get the next items in line\n",
    "                sector = item.find_element(By.CLASS_NAME, value=\"previewModal--tags-label\").text\n",
    "                category = item.find_elements(By.CLASS_NAME, value= \"tag-item\")\n",
    "                for cat in category: \n",
    "                    sentence.append(cat.text)  \n",
    "                if(sector == \"Cast:\"):\n",
    "                        movie_cast.append(sentence.copy()) #6\n",
    "                elif (sector == \"Genres:\"):\n",
    "                        movie_genre.append(sentence.copy()) #7\n",
    "                elif (sector == \"This movie is:\"):\n",
    "                        movie_is.append(sentence.copy()) #8\n",
    "\n",
    "        except: # first try\n",
    "                     print(\"right con Error\")\n",
    "\n",
    "        try: # second try\n",
    "            about_con = driver.find_element(By.CLASS_NAME,value=\"about-container\")\n",
    "            try:\n",
    "                maturity_number = about_con.find_element(By.CLASS_NAME, value = \"maturity-number\")\n",
    "                maturity.append(maturity_number.text)\n",
    "            except:\n",
    "                maturity.append(\"Nan\")\n",
    "            info = about_con.find_elements(By.CLASS_NAME,value=\"previewModal--tags\")\n",
    "            sentence = []\n",
    "            for item in info:\n",
    "                sentence.clear() #clearing to get the next items in line\n",
    "                sector = item.find_element(By.CLASS_NAME, value=\"previewModal--tags-label\").text      \n",
    "                category = item.find_elements(By.TAG_NAME, value= \"a\")\n",
    "                for cat in category: \n",
    "                    sentence.append(cat.text)  \n",
    "                if (sector == \"Genres:\"):\n",
    "                          movie_genre_full.append(sentence.copy()) #9\n",
    "                if (sector == \"Director:\"):\n",
    "                           movie_director.append(sentence.copy())     #10\n",
    "                if (sector == \"Cast:\"):\n",
    "                        movie_full_cast.append(sentence.copy())     #11    \n",
    "                if (sector == \"Writer:\"):\n",
    "                        movie_writer.append(sentence.copy())      #12          \n",
    "                if (sector == \"This movie is:\"):\n",
    "                        movie_is_full.append(sentence.copy()) #13\n",
    "        except: # second try\n",
    "                      print(\"About con Error\")\n",
    "                      \n",
    "                \n",
    "    except: # last try\n",
    "            print(\"exception\")\n",
    "    if(len(movie_titles) == i):\n",
    "                movie_titles.append(\"Nan\") #1\n",
    "    if(len(movie_release_year) == i):\n",
    "                movie_release_year.append(\"Nan\") #2\n",
    "    if(len(movie_duration) == i):\n",
    "                movie_duration.append(\"Nan\")  # 3\n",
    "    if(len(movie_most_liked) == i):\n",
    "                movie_most_liked.append(\"Nan\") #4\n",
    "    if(len(movie_description) == i):\n",
    "                movie_description.append(\"Nan\") #5\n",
    "    if(len(movie_cast) == i):\n",
    "                movie_cast.append(\"Nan\") #6\n",
    "    if(len(movie_genre) == i):\n",
    "                movie_genre.append(\"Nan\")  #7\n",
    "    if(len(movie_is) == i):\n",
    "                movie_is.append(\"Nan\") #8\n",
    "    if(len(movie_genre_full) == i):\n",
    "                movie_genre_full.append(\"Nan\") #9\n",
    "    if(len(movie_director) == i):\n",
    "                movie_director.append(\"Nan\") # 10\n",
    "    if(len(movie_full_cast) == i):\n",
    "                movie_full_cast.append(\"Nan\") #11\n",
    "    if(len(movie_writer) == i):\n",
    "                movie_writer.append(\"Nan\")  #12\n",
    "    if(len(movie_is_full) == i):\n",
    "                movie_is_full.append(\"Nan\") #13 \n",
    "    if(len(maturity) == i):\n",
    "                maturity.append(\"Nan\")\n",
    "    time.sleep(4)\n",
    "    mouse_close = driver.find_element(By.CLASS_NAME,value = \"previewModal-close\")\n",
    "    mouse_close.click()\n",
    "    time.sleep(5)\n",
    "    i += 1        \n"
   ]
  },
  {
   "cell_type": "code",
   "execution_count": null,
   "metadata": {},
   "outputs": [],
   "source": [
    "print(len(movie_titles))\n",
    "print(len(movie_release_year))\n",
    "print(len(movie_duration))\n",
    "print(len(movie_most_liked))\n",
    "print(len(movie_description))\n",
    "print(len(movie_cast))\n",
    "print(len(movie_genre))\n",
    "print(len(movie_is))\n",
    "print(len(movie_director))\n",
    "print(len(movie_full_cast))\n",
    "print(len(movie_writer))\n",
    "print(len(movie_genre_full))\n",
    "print(len(movie_is_full))\n",
    "print(len(maturity))"
   ]
  },
  {
   "cell_type": "code",
   "execution_count": null,
   "metadata": {},
   "outputs": [],
   "source": [
    "df = pd.DataFrame({'Title': movie_titles, 'Year': movie_release_year, 'Duration': movie_duration, 'MostLiked' : movie_most_liked, \n",
    "                  'Descrition': movie_description, 'Cast': movie_cast, 'Genre': movie_genre, 'About': movie_is, 'Director': movie_director, \"FullCast\" : movie_full_cast , \"Writer\" : movie_writer , \"GenreFull\" : movie_genre_full , \"AboutFull\" : movie_is_full , \"Age\" : maturity })\n",
    "df.to_csv(\"Category1.csv\")"
   ]
  }
 ],
 "metadata": {
  "kernelspec": {
   "display_name": "Python 3 (ipykernel)",
   "language": "python",
   "name": "python3"
  },
  "language_info": {
   "codemirror_mode": {
    "name": "ipython",
    "version": 3
   },
   "file_extension": ".py",
   "mimetype": "text/x-python",
   "name": "python",
   "nbconvert_exporter": "python",
   "pygments_lexer": "ipython3",
   "version": "3.9.7"
  }
 },
 "nbformat": 4,
 "nbformat_minor": 4
}
